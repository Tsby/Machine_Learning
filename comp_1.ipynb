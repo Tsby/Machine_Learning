{
 "cells": [
  {
   "cell_type": "code",
   "execution_count": 1,
   "metadata": {
    "collapsed": true
   },
   "outputs": [],
   "source": [
    "import numpy as np\n",
    "import pandas as pd\n",
    "\n",
    "data_x_test = np.load('x_test.npy')\n",
    "data_x_train = np.load('x_train.npy')\n",
    "data_y_train = np.load('y_train.npy')\n",
    "\n",
    "x_train_df = pd.DataFrame(data_x_train)\n",
    "y_train_df = np.log(pd.Series(data_y_train))\n",
    "x_test_df = pd.DataFrame(data_x_test)"
   ]
  },
  {
   "cell_type": "code",
   "execution_count": 2,
   "metadata": {},
   "outputs": [
    {
     "data": {
      "text/plain": [
       "0    13.361380\n",
       "1    13.031782\n",
       "2    12.363076\n",
       "3    12.936034\n",
       "4    13.222209\n",
       "dtype: float64"
      ]
     },
     "execution_count": 2,
     "metadata": {},
     "output_type": "execute_result"
    }
   ],
   "source": [
    "y_train_df.head()"
   ]
  },
  {
   "cell_type": "code",
   "execution_count": 3,
   "metadata": {},
   "outputs": [
    {
     "data": {
      "text/html": [
       "<div>\n",
       "<style scoped>\n",
       "    .dataframe tbody tr th:only-of-type {\n",
       "        vertical-align: middle;\n",
       "    }\n",
       "\n",
       "    .dataframe tbody tr th {\n",
       "        vertical-align: top;\n",
       "    }\n",
       "\n",
       "    .dataframe thead th {\n",
       "        text-align: right;\n",
       "    }\n",
       "</style>\n",
       "<table border=\"1\" class=\"dataframe\">\n",
       "  <thead>\n",
       "    <tr style=\"text-align: right;\">\n",
       "      <th></th>\n",
       "      <th>date</th>\n",
       "      <th>bedrooms</th>\n",
       "      <th>bathrooms</th>\n",
       "      <th>sqft_living</th>\n",
       "      <th>sqft_lot</th>\n",
       "      <th>floors</th>\n",
       "      <th>waterfront</th>\n",
       "      <th>condition</th>\n",
       "      <th>grade</th>\n",
       "      <th>sqft_above</th>\n",
       "      <th>sqft_basement</th>\n",
       "      <th>yr_built</th>\n",
       "      <th>yr_renovated</th>\n",
       "      <th>zipcode</th>\n",
       "      <th>lat</th>\n",
       "      <th>long</th>\n",
       "    </tr>\n",
       "  </thead>\n",
       "  <tbody>\n",
       "    <tr>\n",
       "      <th>0</th>\n",
       "      <td>2014-09-16</td>\n",
       "      <td>5.0</td>\n",
       "      <td>3.25</td>\n",
       "      <td>3710</td>\n",
       "      <td>34200</td>\n",
       "      <td>2.0</td>\n",
       "      <td>False</td>\n",
       "      <td>3</td>\n",
       "      <td>8</td>\n",
       "      <td>2510</td>\n",
       "      <td>1200</td>\n",
       "      <td>1986</td>\n",
       "      <td>0</td>\n",
       "      <td>98074</td>\n",
       "      <td>47.610100</td>\n",
       "      <td>-122.046997</td>\n",
       "    </tr>\n",
       "    <tr>\n",
       "      <th>1</th>\n",
       "      <td>2014-11-18</td>\n",
       "      <td>3.0</td>\n",
       "      <td>1.75</td>\n",
       "      <td>2820</td>\n",
       "      <td>8879</td>\n",
       "      <td>1.0</td>\n",
       "      <td>False</td>\n",
       "      <td>5</td>\n",
       "      <td>7</td>\n",
       "      <td>1540</td>\n",
       "      <td>1280</td>\n",
       "      <td>1920</td>\n",
       "      <td>1957</td>\n",
       "      <td>98146</td>\n",
       "      <td>47.509399</td>\n",
       "      <td>-122.375999</td>\n",
       "    </tr>\n",
       "    <tr>\n",
       "      <th>2</th>\n",
       "      <td>2014-11-10</td>\n",
       "      <td>3.0</td>\n",
       "      <td>1.00</td>\n",
       "      <td>1240</td>\n",
       "      <td>239144</td>\n",
       "      <td>1.0</td>\n",
       "      <td>False</td>\n",
       "      <td>3</td>\n",
       "      <td>6</td>\n",
       "      <td>1240</td>\n",
       "      <td>0</td>\n",
       "      <td>1921</td>\n",
       "      <td>1992</td>\n",
       "      <td>98038</td>\n",
       "      <td>47.430302</td>\n",
       "      <td>-122.045998</td>\n",
       "    </tr>\n",
       "    <tr>\n",
       "      <th>3</th>\n",
       "      <td>2015-04-16</td>\n",
       "      <td>4.0</td>\n",
       "      <td>2.50</td>\n",
       "      <td>2670</td>\n",
       "      <td>8279</td>\n",
       "      <td>2.0</td>\n",
       "      <td>False</td>\n",
       "      <td>3</td>\n",
       "      <td>7</td>\n",
       "      <td>2670</td>\n",
       "      <td>0</td>\n",
       "      <td>1999</td>\n",
       "      <td>0</td>\n",
       "      <td>98148</td>\n",
       "      <td>47.429199</td>\n",
       "      <td>-122.328003</td>\n",
       "    </tr>\n",
       "    <tr>\n",
       "      <th>4</th>\n",
       "      <td>2014-07-23</td>\n",
       "      <td>3.0</td>\n",
       "      <td>2.25</td>\n",
       "      <td>2700</td>\n",
       "      <td>4025</td>\n",
       "      <td>2.0</td>\n",
       "      <td>False</td>\n",
       "      <td>4</td>\n",
       "      <td>8</td>\n",
       "      <td>1760</td>\n",
       "      <td>940</td>\n",
       "      <td>1907</td>\n",
       "      <td>0</td>\n",
       "      <td>98122</td>\n",
       "      <td>47.607399</td>\n",
       "      <td>-122.293999</td>\n",
       "    </tr>\n",
       "  </tbody>\n",
       "</table>\n",
       "</div>"
      ],
      "text/plain": [
       "         date  bedrooms  bathrooms  sqft_living  sqft_lot  floors  waterfront  \\\n",
       "0  2014-09-16       5.0       3.25         3710     34200     2.0       False   \n",
       "1  2014-11-18       3.0       1.75         2820      8879     1.0       False   \n",
       "2  2014-11-10       3.0       1.00         1240    239144     1.0       False   \n",
       "3  2015-04-16       4.0       2.50         2670      8279     2.0       False   \n",
       "4  2014-07-23       3.0       2.25         2700      4025     2.0       False   \n",
       "\n",
       "   condition  grade  sqft_above  sqft_basement  yr_built  yr_renovated  \\\n",
       "0          3      8        2510           1200      1986             0   \n",
       "1          5      7        1540           1280      1920          1957   \n",
       "2          3      6        1240              0      1921          1992   \n",
       "3          3      7        2670              0      1999             0   \n",
       "4          4      8        1760            940      1907             0   \n",
       "\n",
       "   zipcode        lat        long  \n",
       "0    98074  47.610100 -122.046997  \n",
       "1    98146  47.509399 -122.375999  \n",
       "2    98038  47.430302 -122.045998  \n",
       "3    98148  47.429199 -122.328003  \n",
       "4    98122  47.607399 -122.293999  "
      ]
     },
     "execution_count": 3,
     "metadata": {},
     "output_type": "execute_result"
    }
   ],
   "source": [
    "x_train_df.head()"
   ]
  },
  {
   "cell_type": "code",
   "execution_count": 4,
   "metadata": {
    "collapsed": true
   },
   "outputs": [],
   "source": [
    "categorial_features = ['month',\n",
    "                       'waterfront',\n",
    "                       'floors',\n",
    "                       'zipcode']\n",
    "\n",
    "numeric_features = ['bedrooms',\n",
    "                    'bathrooms',\n",
    "                    'sqft_living',\n",
    "                    'sqft_lot',\n",
    "                    'condition',\n",
    "                    'grade',\n",
    "                    'sqft_above',\n",
    "                    'sqft_basement',\n",
    "                    'yr_renovated',\n",
    "                    'yr_built',\n",
    "                    'lat',\n",
    "                    'long',\n",
    "                    'x', 'y', 'z',\n",
    "                   ]"
   ]
  },
  {
   "cell_type": "code",
   "execution_count": 5,
   "metadata": {},
   "outputs": [
    {
     "data": {
      "text/plain": [
       "0    2014-09-16\n",
       "1    2014-11-18\n",
       "2    2014-11-10\n",
       "3    2015-04-16\n",
       "4    2014-07-23\n",
       "Name: date, dtype: object"
      ]
     },
     "execution_count": 5,
     "metadata": {},
     "output_type": "execute_result"
    }
   ],
   "source": [
    "x_train_df['date'].head()"
   ]
  },
  {
   "cell_type": "code",
   "execution_count": 6,
   "metadata": {
    "collapsed": true
   },
   "outputs": [],
   "source": [
    "date_base_train = x_train_df['date'].tolist()\n",
    "date_base_test = x_test_df['date'].tolist()"
   ]
  },
  {
   "cell_type": "code",
   "execution_count": 7,
   "metadata": {
    "collapsed": true
   },
   "outputs": [],
   "source": [
    "date_base_train = x_train_df['date'].tolist()\n",
    "date_base_test = x_test_df['date'].tolist()\n",
    "\n",
    "month_train = []\n",
    "\n",
    "month_test = []\n",
    "\n",
    "for i in date_base_train:\n",
    "    month_train.append(i[5:7])\n",
    "\n",
    "for j in date_base_test:\n",
    "    month_test.append(j[5:7])\n",
    "    \n",
    "x_train_df['month'] = month_train\n",
    "\n",
    "x_test_df['month'] = month_test\n",
    "\n",
    "x_test_df = x_test_df.drop(['date'], axis=1)\n",
    "x_train_df = x_train_df.drop(['date'], axis=1)"
   ]
  },
  {
   "cell_type": "code",
   "execution_count": 7,
   "metadata": {
    "collapsed": true
   },
   "outputs": [],
   "source": [
    "months_1 = pd.get_dummies(x_train_df['month'])\n",
    "months_2 = pd.get_dummies(x_test_df['month'])"
   ]
  },
  {
   "cell_type": "code",
   "execution_count": 8,
   "metadata": {
    "collapsed": true
   },
   "outputs": [],
   "source": [
    "x_train_df = pd.concat([x_train_df, months_1], axis=1)\n",
    "x_test_df = pd.concat([x_test_df, months_2], axis=1)"
   ]
  },
  {
   "cell_type": "code",
   "execution_count": 9,
   "metadata": {
    "collapsed": true
   },
   "outputs": [],
   "source": [
    "x_train_df = x_train_df.drop(['month'], axis=1)\n",
    "x_test_df = x_test_df.drop(['month'], axis=1)"
   ]
  },
  {
   "cell_type": "code",
   "execution_count": 10,
   "metadata": {},
   "outputs": [],
   "source": [
    "zip_codes_train = pd.get_dummies(x_train_df['zipcode'])\n",
    "zip_codes_test = pd.get_dummies(x_test_df['zipcode'])"
   ]
  },
  {
   "cell_type": "code",
   "execution_count": 11,
   "metadata": {},
   "outputs": [],
   "source": [
    "x_train_df = pd.concat([x_train_df, zip_codes_train], axis=1)\n",
    "x_test_df = pd.concat([x_test_df, zip_codes_test], axis=1)"
   ]
  },
  {
   "cell_type": "code",
   "execution_count": 12,
   "metadata": {},
   "outputs": [],
   "source": [
    "x_train_df = x_train_df.drop(['zipcode'], axis=1)\n",
    "x_test_df = x_test_df.drop(['zipcode'], axis=1)"
   ]
  },
  {
   "cell_type": "code",
   "execution_count": 8,
   "metadata": {
    "collapsed": true
   },
   "outputs": [],
   "source": [
    "#x_test_df['square'] = x_test_df.sqft_living**2\n",
    "#x_train_df['square'] = x_train_df.sqft_living**2\n",
    "\n",
    "x_test_df['x'] = np.cos(x_test_df['lat']) * np.cos(x_test_df['long'])\n",
    "x_test_df['y'] = np.cos(x_test_df['lat']) * np.sin(x_test_df['long'])\n",
    "x_test_df['z'] = np.sin(x_test_df['lat'])\n",
    "\n",
    "x_train_df['x'] = np.cos(x_train_df['lat']) * np.cos(x_train_df['long'])\n",
    "x_train_df['y'] = np.cos(x_train_df['lat']) * np.sin(x_train_df['long'])\n",
    "x_train_df['z'] = np.sin(x_train_df['lat'])\n",
    "\n",
    "#x_test_df['new_1'] = np.cos(x_test_df['lat']) * np.cos(x_test_df['long'])\n",
    "#x_train_df['new_1'] = np.cos(x_train_df['lat']) * np.cos(x_train_df['long'])\n",
    "\n",
    "#x_test_df['new_2'] = np.cos(x_test_df['lat']) * np.sin(x_test_df['long'])\n",
    "#x_train_df['new_2'] = np.cos(x_train_df['lat']) * np.sin(x_train_df['long'])\n",
    "\n",
    "#x_test_df['new_3'] = np.sin(x_train_df['lat'])\n",
    "#x_train_df['new_3'] = np.sin(x_train_df['lat'])"
   ]
  },
  {
   "cell_type": "code",
   "execution_count": 9,
   "metadata": {},
   "outputs": [
    {
     "data": {
      "text/html": [
       "<div>\n",
       "<style scoped>\n",
       "    .dataframe tbody tr th:only-of-type {\n",
       "        vertical-align: middle;\n",
       "    }\n",
       "\n",
       "    .dataframe tbody tr th {\n",
       "        vertical-align: top;\n",
       "    }\n",
       "\n",
       "    .dataframe thead th {\n",
       "        text-align: right;\n",
       "    }\n",
       "</style>\n",
       "<table border=\"1\" class=\"dataframe\">\n",
       "  <thead>\n",
       "    <tr style=\"text-align: right;\">\n",
       "      <th></th>\n",
       "      <th>bedrooms</th>\n",
       "      <th>bathrooms</th>\n",
       "      <th>sqft_living</th>\n",
       "      <th>sqft_lot</th>\n",
       "      <th>floors</th>\n",
       "      <th>waterfront</th>\n",
       "      <th>condition</th>\n",
       "      <th>grade</th>\n",
       "      <th>sqft_above</th>\n",
       "      <th>sqft_basement</th>\n",
       "      <th>yr_built</th>\n",
       "      <th>yr_renovated</th>\n",
       "      <th>zipcode</th>\n",
       "      <th>lat</th>\n",
       "      <th>long</th>\n",
       "      <th>month</th>\n",
       "      <th>x</th>\n",
       "      <th>y</th>\n",
       "      <th>z</th>\n",
       "    </tr>\n",
       "  </thead>\n",
       "  <tbody>\n",
       "    <tr>\n",
       "      <th>0</th>\n",
       "      <td>3.0</td>\n",
       "      <td>2.0</td>\n",
       "      <td>1600</td>\n",
       "      <td>7350</td>\n",
       "      <td>1.0</td>\n",
       "      <td>False</td>\n",
       "      <td>4</td>\n",
       "      <td>7</td>\n",
       "      <td>1600</td>\n",
       "      <td>0</td>\n",
       "      <td>1979</td>\n",
       "      <td>0</td>\n",
       "      <td>98052</td>\n",
       "      <td>47.697701</td>\n",
       "      <td>-122.125999</td>\n",
       "      <td>09</td>\n",
       "      <td>0.774808</td>\n",
       "      <td>0.324040</td>\n",
       "      <td>-0.542836</td>\n",
       "    </tr>\n",
       "    <tr>\n",
       "      <th>1</th>\n",
       "      <td>4.0</td>\n",
       "      <td>3.0</td>\n",
       "      <td>3060</td>\n",
       "      <td>50002</td>\n",
       "      <td>1.0</td>\n",
       "      <td>False</td>\n",
       "      <td>4</td>\n",
       "      <td>8</td>\n",
       "      <td>2460</td>\n",
       "      <td>600</td>\n",
       "      <td>1957</td>\n",
       "      <td>0</td>\n",
       "      <td>98008</td>\n",
       "      <td>47.620499</td>\n",
       "      <td>-122.096001</td>\n",
       "      <td>11</td>\n",
       "      <td>0.800584</td>\n",
       "      <td>0.363405</td>\n",
       "      <td>-0.476447</td>\n",
       "    </tr>\n",
       "    <tr>\n",
       "      <th>2</th>\n",
       "      <td>5.0</td>\n",
       "      <td>2.5</td>\n",
       "      <td>3490</td>\n",
       "      <td>18850</td>\n",
       "      <td>1.0</td>\n",
       "      <td>False</td>\n",
       "      <td>4</td>\n",
       "      <td>9</td>\n",
       "      <td>1840</td>\n",
       "      <td>1650</td>\n",
       "      <td>1958</td>\n",
       "      <td>0</td>\n",
       "      <td>98005</td>\n",
       "      <td>47.595501</td>\n",
       "      <td>-122.176003</td>\n",
       "      <td>10</td>\n",
       "      <td>0.838010</td>\n",
       "      <td>0.302209</td>\n",
       "      <td>-0.454322</td>\n",
       "    </tr>\n",
       "    <tr>\n",
       "      <th>3</th>\n",
       "      <td>3.0</td>\n",
       "      <td>2.5</td>\n",
       "      <td>2360</td>\n",
       "      <td>9005</td>\n",
       "      <td>1.0</td>\n",
       "      <td>False</td>\n",
       "      <td>5</td>\n",
       "      <td>7</td>\n",
       "      <td>1340</td>\n",
       "      <td>1020</td>\n",
       "      <td>1929</td>\n",
       "      <td>0</td>\n",
       "      <td>98133</td>\n",
       "      <td>47.707600</td>\n",
       "      <td>-122.336998</td>\n",
       "      <td>11</td>\n",
       "      <td>0.820168</td>\n",
       "      <td>0.153584</td>\n",
       "      <td>-0.551123</td>\n",
       "    </tr>\n",
       "    <tr>\n",
       "      <th>4</th>\n",
       "      <td>4.0</td>\n",
       "      <td>3.0</td>\n",
       "      <td>2860</td>\n",
       "      <td>10292</td>\n",
       "      <td>1.0</td>\n",
       "      <td>False</td>\n",
       "      <td>4</td>\n",
       "      <td>8</td>\n",
       "      <td>2860</td>\n",
       "      <td>0</td>\n",
       "      <td>1953</td>\n",
       "      <td>1999</td>\n",
       "      <td>98004</td>\n",
       "      <td>47.628601</td>\n",
       "      <td>-122.206001</td>\n",
       "      <td>12</td>\n",
       "      <td>0.831943</td>\n",
       "      <td>0.272112</td>\n",
       "      <td>-0.483555</td>\n",
       "    </tr>\n",
       "  </tbody>\n",
       "</table>\n",
       "</div>"
      ],
      "text/plain": [
       "   bedrooms  bathrooms  sqft_living  sqft_lot  floors  waterfront  condition  \\\n",
       "0       3.0        2.0         1600      7350     1.0       False          4   \n",
       "1       4.0        3.0         3060     50002     1.0       False          4   \n",
       "2       5.0        2.5         3490     18850     1.0       False          4   \n",
       "3       3.0        2.5         2360      9005     1.0       False          5   \n",
       "4       4.0        3.0         2860     10292     1.0       False          4   \n",
       "\n",
       "   grade  sqft_above  sqft_basement  yr_built  yr_renovated  zipcode  \\\n",
       "0      7        1600              0      1979             0    98052   \n",
       "1      8        2460            600      1957             0    98008   \n",
       "2      9        1840           1650      1958             0    98005   \n",
       "3      7        1340           1020      1929             0    98133   \n",
       "4      8        2860              0      1953          1999    98004   \n",
       "\n",
       "         lat        long month         x         y         z  \n",
       "0  47.697701 -122.125999    09  0.774808  0.324040 -0.542836  \n",
       "1  47.620499 -122.096001    11  0.800584  0.363405 -0.476447  \n",
       "2  47.595501 -122.176003    10  0.838010  0.302209 -0.454322  \n",
       "3  47.707600 -122.336998    11  0.820168  0.153584 -0.551123  \n",
       "4  47.628601 -122.206001    12  0.831943  0.272112 -0.483555  "
      ]
     },
     "execution_count": 9,
     "metadata": {},
     "output_type": "execute_result"
    }
   ],
   "source": [
    "x_test_df.head()"
   ]
  },
  {
   "cell_type": "code",
   "execution_count": 10,
   "metadata": {},
   "outputs": [
    {
     "data": {
      "image/png": "[encoded data removed]",
      "text/plain": [
       "<Figure size 1080x792 with 2 Axes>"
      ]
     },
     "metadata": {},
     "output_type": "display_data"
    }
   ],
   "source": [
    "import seaborn as sns\n",
    "import matplotlib.pyplot as plt\n",
    "%matplotlib inline\n",
    "\n",
    "corr = x_train_df.corr()\n",
    "plt.figure(figsize=(15, 11))\n",
    "sns.heatmap(corr, vmax=.8, square=True, cmap='magma');"
   ]
  },
  {
   "cell_type": "code",
   "execution_count": 11,
   "metadata": {
    "collapsed": true
   },
   "outputs": [],
   "source": [
    "from sklearn.model_selection import train_test_split, GridSearchCV\n",
    "from sklearn.pipeline import Pipeline\n",
    "from sklearn.linear_model import LinearRegression, Ridge, Lasso\n",
    "from sklearn.preprocessing import StandardScaler, MinMaxScaler"
   ]
  },
  {
   "cell_type": "code",
   "execution_count": 12,
   "metadata": {},
   "outputs": [
    {
     "name": "stderr",
     "output_type": "stream",
     "text": [
      "/Library/Frameworks/Python.framework/Versions/3.5/lib/python3.5/site-packages/sklearn/model_selection/_split.py:2069: FutureWarning: From version 0.21, test_size will always complement train_size unless both are specified.\n",
      "  FutureWarning)\n"
     ]
    }
   ],
   "source": [
    "x_train, x_test, y_train, y_test = train_test_split(x_train_df, y_train_df, train_size=0.7, random_state=42)"
   ]
  },
  {
   "cell_type": "code",
   "execution_count": 13,
   "metadata": {
    "collapsed": true
   },
   "outputs": [],
   "source": [
    "def mape(y_true, y_pred): \n",
    "    return np.mean(np.abs((y_true - y_pred) / y_true)) * 100"
   ]
  },
  {
   "cell_type": "code",
   "execution_count": 14,
   "metadata": {
    "collapsed": true
   },
   "outputs": [],
   "source": [
    "def mape_scorer(estimator, X_test, y_test):\n",
    "    return -mape(np.exp(y_test), np.exp(estimator.predict(X_test)))"
   ]
  },
  {
   "cell_type": "code",
   "execution_count": 15,
   "metadata": {},
   "outputs": [
    {
     "name": "stdout",
     "output_type": "stream",
     "text": [
      "Fitting 5 folds for each of 10 candidates, totalling 50 fits\n"
     ]
    },
    {
     "name": "stderr",
     "output_type": "stream",
     "text": [
      "[Parallel(n_jobs=1)]: Using backend SequentialBackend with 1 concurrent workers.\n",
      "[Parallel(n_jobs=1)]: Done  50 out of  50 | elapsed:   30.3s finished\n"
     ]
    },
    {
     "data": {
      "text/plain": [
       "GridSearchCV(cv=5, error_score='raise-deprecating',\n",
       "       estimator=Pipeline(memory=None,\n",
       "     steps=[('encoding', ColumnTransformer(n_jobs=None, remainder='passthrough', sparse_threshold=0,\n",
       "         transformer_weights=None,\n",
       "         transformers=[('one_hot_encode', OneHotEncoder(categorical_features=None, categories='auto',\n",
       "       dtype=<class 'numpy.float64'>, handle_unknown='ignore',\n",
       "    ...it_intercept=True, max_iter=None,\n",
       "   normalize=False, random_state=None, solver='auto', tol=0.001))]),\n",
       "       fit_params=None, iid='warn', n_jobs=None,\n",
       "       param_grid={'reg__alpha': array([0.001  , 0.00167, 0.00278, 0.00464, 0.00774, 0.01292, 0.02154,\n",
       "       0.03594, 0.05995, 0.1    ])},\n",
       "       pre_dispatch='2*n_jobs', refit=True, return_train_score=True,\n",
       "       scoring=<function mape_scorer at 0x116bc7d90>, verbose=1)"
      ]
     },
     "execution_count": 15,
     "metadata": {},
     "output_type": "execute_result"
    }
   ],
   "source": [
    "from sklearn.compose import ColumnTransformer\n",
    "from sklearn.preprocessing import PolynomialFeatures\n",
    "from sklearn.preprocessing import OneHotEncoder\n",
    "import warnings\n",
    "warnings.filterwarnings('ignore')\n",
    "\n",
    "scals = [StandardScaler(), MinMaxScaler()]\n",
    "\n",
    "param_grid = {\n",
    "#    'poly__degree': [2],\n",
    "    'reg__alpha' : np.logspace(-3, -1, 3),\n",
    " #   'reg' : [Lasso(max_iter=2500), Ridge()],\n",
    "}\n",
    "\n",
    "#pipeline = Pipeline([\n",
    "#    ('scale', MinMaxScaler()),\n",
    "#    ('poly', PolynomialFeatures()),\n",
    "#    ('reg', LinearRegression())\n",
    "#])\n",
    "\n",
    "pipeline = Pipeline(\n",
    "            [('encoding', ColumnTransformer([('one_hot_encode',\n",
    "                                              OneHotEncoder(sparse=False, handle_unknown='ignore', categories='auto'),\n",
    "                                              categorial_features),\n",
    "                                            ('scaler', StandardScaler(), numeric_features),\n",
    "                                            ('polynom', PolynomialFeatures(degree=2), numeric_features)],\n",
    "                                            sparse_threshold=0,\n",
    "                                            remainder='passthrough')),\n",
    "             ('reg', Ridge())])\n",
    "\n",
    "cv = GridSearchCV(pipeline, param_grid=param_grid, refit=True,\n",
    "                         cv=5, return_train_score=True, verbose=1,\n",
    "                         scoring=mape_scorer)\n",
    "cv.fit(x_train, y_train)\n",
    "#test_cv = cv.predict(x_test_df)"
   ]
  },
  {
   "cell_type": "code",
   "execution_count": 16,
   "metadata": {},
   "outputs": [
    {
     "data": {
      "text/plain": [
       "Pipeline(memory=None,\n",
       "     steps=[('encoding', ColumnTransformer(n_jobs=None, remainder='passthrough', sparse_threshold=0,\n",
       "         transformer_weights=None,\n",
       "         transformers=[('one_hot_encode', OneHotEncoder(categorical_features=None, categories='auto',\n",
       "       dtype=<class 'numpy.float64'>, handle_unknown='ignore',\n",
       "    ...intercept=True,\n",
       "   max_iter=None, normalize=False, random_state=None, solver='auto',\n",
       "   tol=0.001))])"
      ]
     },
     "execution_count": 16,
     "metadata": {},
     "output_type": "execute_result"
    }
   ],
   "source": [
    "cv.best_estimator_"
   ]
  },
  {
   "cell_type": "code",
   "execution_count": 17,
   "metadata": {},
   "outputs": [],
   "source": [
    "#x_train_df.isnull().any()"
   ]
  },
  {
   "cell_type": "code",
   "execution_count": 18,
   "metadata": {
    "collapsed": true
   },
   "outputs": [],
   "source": [
    "#cv.score(x_train_df)\n",
    "#x_test_df.loc[[1086]]\n",
    "#x_test_df[1085:1089]"
   ]
  },
  {
   "cell_type": "code",
   "execution_count": 19,
   "metadata": {},
   "outputs": [
    {
     "data": {
      "text/plain": [
       "13.16170982566805"
      ]
     },
     "execution_count": 19,
     "metadata": {},
     "output_type": "execute_result"
    }
   ],
   "source": [
    "best_est = cv.best_estimator_\n",
    "#best_est.fit(x_train_df, np.log(y_train_df))\n",
    "mape(np.exp(y_test), np.exp(best_est.predict(x_test)))\n",
    "\n",
    "#cv.fit(x_train_df, np.log(y_train_df))\n",
    "#mape(y_train_df, np.exp(cv.predict(x_train_df)))"
   ]
  },
  {
   "cell_type": "code",
   "execution_count": 21,
   "metadata": {
    "collapsed": true
   },
   "outputs": [],
   "source": [
    "df_test_y = pd.DataFrame(np.exp(cv.predict(x_test_df)), columns=['Price'])"
   ]
  },
  {
   "cell_type": "code",
   "execution_count": 22,
   "metadata": {},
   "outputs": [],
   "source": [
    "df_test_y['Id'] = [i for i in range(1, 6614)]\n",
    "df_test_y = df_test_y.set_index('Id')\n",
    "#df_test_y"
   ]
  },
  {
   "cell_type": "code",
   "execution_count": 23,
   "metadata": {
    "collapsed": true
   },
   "outputs": [],
   "source": [
    "df_test_y.to_csv('y_test.csv')"
   ]
  },
  {
   "cell_type": "code",
   "execution_count": null,
   "metadata": {
    "collapsed": true
   },
   "outputs": [],
   "source": []
  },
  {
   "cell_type": "code",
   "execution_count": null,
   "metadata": {
    "collapsed": true
   },
   "outputs": [],
   "source": []
  },
  {
   "cell_type": "code",
   "execution_count": null,
   "metadata": {
    "collapsed": true
   },
   "outputs": [],
   "source": []
  },
  {
   "cell_type": "code",
   "execution_count": null,
   "metadata": {
    "collapsed": true
   },
   "outputs": [],
   "source": []
  },
  {
   "cell_type": "code",
   "execution_count": null,
   "metadata": {
    "collapsed": true
   },
   "outputs": [],
   "source": []
  }
 ],
 "metadata": {
  "anaconda-cloud": {},
  "kernel_info": {
   "name": "py36"
  },
  "kernelspec": {
   "display_name": "Python 3",
   "language": "python",
   "name": "python3"
  },
  "language_info": {
   "codemirror_mode": {
    "name": "ipython",
    "version": 3
   },
   "file_extension": ".py",
   "mimetype": "text/x-python",
   "name": "python",
   "nbconvert_exporter": "python",
   "pygments_lexer": "ipython3",
   "version": "3.5.2"
  },
  "nteract": {
   "version": "0.11.6"
  }
 },
 "nbformat": 4,
 "nbformat_minor": 2
}
